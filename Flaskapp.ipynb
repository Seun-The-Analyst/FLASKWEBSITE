{
 "cells": [
  {
   "cell_type": "code",
   "execution_count": 23,
   "id": "3f8ef65f",
   "metadata": {},
   "outputs": [
    {
     "name": "stdout",
     "output_type": "stream",
     "text": [
      " * Serving Flask app '__main__'\n",
      " * Debug mode: off\n"
     ]
    },
    {
     "name": "stderr",
     "output_type": "stream",
     "text": [
      "WARNING: This is a development server. Do not use it in a production deployment. Use a production WSGI server instead.\n",
      " * Running on all addresses (0.0.0.0)\n",
      " * Running on http://127.0.0.1:5000\n",
      " * Running on http://192.168.1.192:5000\n",
      "Press CTRL+C to quit\n",
      "127.0.0.1 - - [22/Jun/2025 04:45:33] \"GET / HTTP/1.1\" 200 -\n",
      "127.0.0.1 - - [22/Jun/2025 04:45:38] \"POST / HTTP/1.1\" 200 -\n",
      "127.0.0.1 - - [22/Jun/2025 04:45:40] \"POST / HTTP/1.1\" 200 -\n",
      "127.0.0.1 - - [22/Jun/2025 04:45:42] \"POST / HTTP/1.1\" 200 -\n",
      "127.0.0.1 - - [22/Jun/2025 04:45:44] \"POST / HTTP/1.1\" 200 -\n",
      "127.0.0.1 - - [22/Jun/2025 04:45:45] \"POST / HTTP/1.1\" 200 -\n",
      "127.0.0.1 - - [22/Jun/2025 04:45:47] \"POST / HTTP/1.1\" 200 -\n",
      "127.0.0.1 - - [22/Jun/2025 04:45:48] \"POST / HTTP/1.1\" 200 -\n",
      "127.0.0.1 - - [22/Jun/2025 04:45:50] \"POST / HTTP/1.1\" 200 -\n",
      "127.0.0.1 - - [22/Jun/2025 04:45:52] \"POST / HTTP/1.1\" 200 -\n",
      "127.0.0.1 - - [22/Jun/2025 04:45:55] \"POST / HTTP/1.1\" 200 -\n",
      "127.0.0.1 - - [22/Jun/2025 04:45:57] \"POST / HTTP/1.1\" 200 -\n",
      "127.0.0.1 - - [22/Jun/2025 04:46:00] \"POST / HTTP/1.1\" 200 -\n",
      "127.0.0.1 - - [22/Jun/2025 04:46:02] \"POST / HTTP/1.1\" 200 -\n",
      "127.0.0.1 - - [22/Jun/2025 04:46:04] \"POST / HTTP/1.1\" 200 -\n",
      "127.0.0.1 - - [22/Jun/2025 04:46:06] \"POST / HTTP/1.1\" 200 -\n",
      "127.0.0.1 - - [22/Jun/2025 04:46:08] \"POST / HTTP/1.1\" 200 -\n",
      "127.0.0.1 - - [22/Jun/2025 04:46:10] \"POST / HTTP/1.1\" 200 -\n",
      "127.0.0.1 - - [22/Jun/2025 04:46:11] \"POST / HTTP/1.1\" 200 -\n",
      "127.0.0.1 - - [22/Jun/2025 04:46:13] \"POST / HTTP/1.1\" 200 -\n",
      "127.0.0.1 - - [22/Jun/2025 04:46:16] \"POST / HTTP/1.1\" 200 -\n",
      "127.0.0.1 - - [22/Jun/2025 04:46:17] \"POST / HTTP/1.1\" 200 -\n",
      "127.0.0.1 - - [22/Jun/2025 04:46:19] \"POST / HTTP/1.1\" 200 -\n",
      "127.0.0.1 - - [22/Jun/2025 04:46:21] \"POST / HTTP/1.1\" 200 -\n",
      "127.0.0.1 - - [22/Jun/2025 04:46:22] \"POST / HTTP/1.1\" 200 -\n",
      "127.0.0.1 - - [22/Jun/2025 04:46:24] \"POST / HTTP/1.1\" 200 -\n",
      "127.0.0.1 - - [22/Jun/2025 04:46:26] \"POST / HTTP/1.1\" 200 -\n",
      "127.0.0.1 - - [22/Jun/2025 04:46:28] \"POST / HTTP/1.1\" 200 -\n",
      "127.0.0.1 - - [22/Jun/2025 04:46:29] \"POST / HTTP/1.1\" 200 -\n",
      "127.0.0.1 - - [22/Jun/2025 04:46:31] \"POST / HTTP/1.1\" 200 -\n",
      "127.0.0.1 - - [22/Jun/2025 04:46:34] \"POST / HTTP/1.1\" 200 -\n"
     ]
    }
   ],
   "source": [
    "from flask import Flask, render_template, request, redirect, url_for\n",
    "app = Flask(__name__)\n",
    "\n",
    "@app.route('/', methods=['GET', 'POST'])\n",
    "def home():\n",
    "    if request.method == 'POST':\n",
    "        # handle form submission\n",
    "        pass\n",
    "    return render_template('register.html')\n",
    "if __name__ == '__main__':\n",
    "    app.run(host='0.0.0.0')\n",
    "\n",
    "# To run this script, save it as `app.py` and execute it with Python 3.\n",
    "# You can access the application by navigating to http://localhost:5000 in your web browser.\n",
    "# Make sure you have Flask installed in your Python environment.\n"
   ]
  },
  {
   "cell_type": "code",
   "execution_count": null,
   "id": "a7e4e0a9",
   "metadata": {},
   "outputs": [
    {
     "name": "stdout",
     "output_type": "stream",
     "text": [
      "Collecting pymongo\n",
      "  Downloading pymongo-4.13.2-cp313-cp313-win_amd64.whl.metadata (22 kB)\n",
      "Collecting dnspython<3.0.0,>=1.16.0 (from pymongo)\n",
      "  Downloading dnspython-2.7.0-py3-none-any.whl.metadata (5.8 kB)\n",
      "Downloading pymongo-4.13.2-cp313-cp313-win_amd64.whl (955 kB)\n",
      "   ---------------------------------------- 0.0/955.1 kB ? eta -:--:--\n",
      "   ---------------------------------------- 0.0/955.1 kB ? eta -:--:--\n",
      "   ---------- ----------------------------- 262.1/955.1 kB ? eta -:--:--\n",
      "   --------------------- ------------------ 524.3/955.1 kB 1.1 MB/s eta 0:00:01\n",
      "   ---------------------------------------- 955.1/955.1 kB 1.4 MB/s eta 0:00:00\n",
      "Downloading dnspython-2.7.0-py3-none-any.whl (313 kB)\n",
      "Installing collected packages: dnspython, pymongo\n",
      "Successfully installed dnspython-2.7.0 pymongo-4.13.2\n",
      "Note: you may need to restart the kernel to use updated packages.\n"
     ]
    },
    {
     "name": "stderr",
     "output_type": "stream",
     "text": [
      "\n",
      "[notice] A new release of pip is available: 25.0.1 -> 25.1.1\n",
      "[notice] To update, run: c:\\Users\\oluwaseun.akande\\AppData\\Local\\Programs\\Python\\Python313\\python.exe -m pip install --upgrade pip\n"
     ]
    }
   ],
   "source": [
    "%pip install pymongo"
   ]
  },
  {
   "cell_type": "code",
   "execution_count": 16,
   "id": "0b2d34bb",
   "metadata": {},
   "outputs": [],
   "source": [
    "from flask import Flask, render_template, request, redirect, url_for\n",
    "from pymongo import MongoClient\n",
    "\n",
    "app = Flask(__name__)\n",
    "\n",
    "# Connect to MongoDB\n",
    "client = MongoClient(\"mongodb://localhost:27017/\")\n",
    "db = client['registration_db']\n",
    "users = db['users']\n",
    "\n",
    "@app.route('/')\n",
    "def home():\n",
    "    return render_template('register.html')\n",
    "\n",
    "@app.route('/register', methods=['GET', 'POST'])\n",
    "def register():\n",
    "    # handle registration\n",
    "    return render_template('register.html')\n",
    "\n",
    "@app.route('/view_users') \n",
    "def view_users():\n",
    "    all_users = list(users.find())\n",
    "    return render_template('view_users.html', users=all_users)\n"
   ]
  },
  {
   "cell_type": "code",
   "execution_count": 17,
   "id": "dbbaa398",
   "metadata": {},
   "outputs": [],
   "source": [
    "class User:\n",
    "    def __init__(self, username, password, age, gender, income, expenses):\n",
    "        self.username = username\n",
    "        self.password = password\n",
    "        self.age = age\n",
    "        self.gender = gender\n",
    "        self.income = income\n",
    "        self.expenses = expenses  # Should be a dict, e.g. {'utilities': 100, ...}\n",
    "\n",
    "    def total_expenses(self):\n",
    "        \"\"\"Return the sum of all expense amounts.\"\"\"\n",
    "        return sum(self.expenses.values())\n",
    "\n",
    "    def remaining_income(self):\n",
    "        \"\"\"Return income after subtracting total expenses.\"\"\"\n",
    "        return self.income - self.total_expenses()\n",
    "\n",
    "    def to_dict(self):\n",
    "        \"\"\"Convert the user data to a dictionary for MongoDB storage.\"\"\"\n",
    "        return {\n",
    "            'username': self.username,\n",
    "            'password': self.password,\n",
    "            'age': self.age,\n",
    "            'gender': self.gender,\n",
    "            'income': self.income,\n",
    "            'expenses': self.expenses\n",
    "        }"
   ]
  },
  {
   "cell_type": "code",
   "execution_count": 24,
   "id": "2b494864",
   "metadata": {},
   "outputs": [
    {
     "name": "stdout",
     "output_type": "stream",
     "text": [
      "Could not connect to MongoDB. Please ensure MongoDB is running on localhost:27017.\n",
      "Data saved to user_data.csv\n"
     ]
    }
   ],
   "source": [
    "import pandas as pd\n",
    "\n",
    "# Assumes 'users' is already defined in a previous cell (cell 2)\n",
    "\n",
    "from pymongo.errors import ServerSelectionTimeoutError\n",
    "\n",
    "# Fetch all user documents from MongoDB with error handling\n",
    "try:\n",
    "    user_docs = list(users.find())\n",
    "except ServerSelectionTimeoutError as e:\n",
    "    print(\"Could not connect to MongoDB. Please ensure MongoDB is running on localhost:27017.\")\n",
    "    user_docs = []\n",
    "\n",
    "# Flatten the expenses dictionary for each user\n",
    "for doc in user_docs:\n",
    "    # Convert ObjectId to string if present\n",
    "    if '_id' in doc:\n",
    "        doc['_id'] = str(doc['_id'])\n",
    "    # Add each expense category as a column\n",
    "    for cat in ['utilities', 'entertainment', 'school_fees', 'shopping', 'healthcare']:\n",
    "        doc[cat] = doc.get('expenses', {}).get(cat, 0)\n",
    "    # Remove the nested expenses dict\n",
    "    doc.pop('expenses', None)\n",
    "\n",
    "# Create DataFrame and save to CSV\n",
    "df = pd.DataFrame(user_docs)\n",
    "df.to_csv('user_data.csv', index=False)\n",
    "print(\"Data saved to user_data.csv\")"
   ]
  },
  {
   "cell_type": "code",
   "execution_count": 22,
   "id": "ef0ebb62",
   "metadata": {},
   "outputs": [
    {
     "name": "stdout",
     "output_type": "stream",
     "text": [
      "The file 'user_data.csv' is empty or contains no valid data. No data to display.\n"
     ]
    }
   ],
   "source": [
    "import pandas as pd\n",
    "import os\n",
    "\n",
    "csv_path = 'user_data.csv'\n",
    "\n",
    "try:\n",
    "\tdf = pd.read_csv(csv_path)\n",
    "\tdisplay(df.head())\n",
    "except pd.errors.EmptyDataError:\n",
    "\tprint(\"The file 'user_data.csv' is empty or contains no valid data. No data to display.\")\n",
    "except FileNotFoundError:\n",
    "\tprint(f\"The file '{csv_path}' does not exist.\")"
   ]
  },
  {
   "cell_type": "code",
   "execution_count": null,
   "id": "41d53c1d",
   "metadata": {},
   "outputs": [],
   "source": []
  }
 ],
 "metadata": {
  "kernelspec": {
   "display_name": "Python 3",
   "language": "python",
   "name": "python3"
  },
  "language_info": {
   "codemirror_mode": {
    "name": "ipython",
    "version": 3
   },
   "file_extension": ".py",
   "mimetype": "text/x-python",
   "name": "python",
   "nbconvert_exporter": "python",
   "pygments_lexer": "ipython3",
   "version": "3.13.3"
  }
 },
 "nbformat": 4,
 "nbformat_minor": 5
}
